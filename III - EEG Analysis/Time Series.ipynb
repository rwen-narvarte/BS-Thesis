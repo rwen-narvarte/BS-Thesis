{
 "cells": [
  {
   "cell_type": "code",
   "execution_count": 59,
   "metadata": {},
   "outputs": [],
   "source": [
    "import numpy as np\n",
    "import matplotlib.pyplot as plt\n",
    "import os"
   ]
  },
  {
   "cell_type": "code",
   "execution_count": 61,
   "metadata": {},
   "outputs": [],
   "source": [
    "def path(n_file):\n",
    "    n_file_str = str(n_file).zfill(3)\n",
    "    file_path = str(r\"d:\\NIP\\BS-Thesis\\III - EEG Analysis\\F\\F\" + n_file_str + '.txt')\n",
    "    return file_path\n",
    "\n",
    "def extract(file_path):\n",
    "    with open(file_path, 'r') as file:\n",
    "        data = [ int(line.strip()) for line in file]\n",
    "    return data\n"
   ]
  },
  {
   "cell_type": "code",
   "execution_count": 62,
   "metadata": {},
   "outputs": [],
   "source": [
    "data = []\n",
    "for i in range (1,101):\n",
    "    name = path(i)\n",
    "    data.append( extract(name) )\n"
   ]
  },
  {
   "cell_type": "code",
   "execution_count": 63,
   "metadata": {},
   "outputs": [
    {
     "name": "stdout",
     "output_type": "stream",
     "text": [
      "file: 1 \tlen: 4097\n",
      "file: 2 \tlen: 4097\n",
      "file: 3 \tlen: 4097\n",
      "file: 4 \tlen: 4097\n",
      "file: 5 \tlen: 4097\n",
      "file: 6 \tlen: 4097\n",
      "file: 7 \tlen: 4097\n",
      "file: 8 \tlen: 4097\n",
      "file: 9 \tlen: 4097\n",
      "file: 10 \tlen: 4097\n",
      "file: 11 \tlen: 4097\n",
      "file: 12 \tlen: 4097\n",
      "file: 13 \tlen: 4097\n",
      "file: 14 \tlen: 4097\n",
      "file: 15 \tlen: 4097\n",
      "file: 16 \tlen: 4097\n",
      "file: 17 \tlen: 4097\n",
      "file: 18 \tlen: 4097\n",
      "file: 19 \tlen: 4097\n",
      "file: 20 \tlen: 4097\n",
      "file: 21 \tlen: 4097\n",
      "file: 22 \tlen: 4097\n",
      "file: 23 \tlen: 4097\n",
      "file: 24 \tlen: 4097\n",
      "file: 25 \tlen: 4097\n",
      "file: 26 \tlen: 4097\n",
      "file: 27 \tlen: 4097\n",
      "file: 28 \tlen: 4097\n",
      "file: 29 \tlen: 4097\n",
      "file: 30 \tlen: 4097\n",
      "file: 31 \tlen: 4097\n",
      "file: 32 \tlen: 4097\n",
      "file: 33 \tlen: 4097\n",
      "file: 34 \tlen: 4097\n",
      "file: 35 \tlen: 4097\n",
      "file: 36 \tlen: 4097\n",
      "file: 37 \tlen: 4097\n",
      "file: 38 \tlen: 4097\n",
      "file: 39 \tlen: 4097\n",
      "file: 40 \tlen: 4097\n",
      "file: 41 \tlen: 4097\n",
      "file: 42 \tlen: 4097\n",
      "file: 43 \tlen: 4097\n",
      "file: 44 \tlen: 4097\n",
      "file: 45 \tlen: 4097\n",
      "file: 46 \tlen: 4097\n",
      "file: 47 \tlen: 4097\n",
      "file: 48 \tlen: 4097\n",
      "file: 49 \tlen: 4097\n",
      "file: 50 \tlen: 4097\n",
      "file: 51 \tlen: 4097\n",
      "file: 52 \tlen: 4097\n",
      "file: 53 \tlen: 4097\n",
      "file: 54 \tlen: 4097\n",
      "file: 55 \tlen: 4097\n",
      "file: 56 \tlen: 4097\n",
      "file: 57 \tlen: 4097\n",
      "file: 58 \tlen: 4097\n",
      "file: 59 \tlen: 4097\n",
      "file: 60 \tlen: 4097\n",
      "file: 61 \tlen: 4097\n",
      "file: 62 \tlen: 4097\n",
      "file: 63 \tlen: 4097\n",
      "file: 64 \tlen: 4097\n",
      "file: 65 \tlen: 4097\n",
      "file: 66 \tlen: 4097\n",
      "file: 67 \tlen: 4097\n",
      "file: 68 \tlen: 4097\n",
      "file: 69 \tlen: 4097\n",
      "file: 70 \tlen: 4097\n",
      "file: 71 \tlen: 4097\n",
      "file: 72 \tlen: 4097\n",
      "file: 73 \tlen: 4097\n",
      "file: 74 \tlen: 4097\n",
      "file: 75 \tlen: 4097\n",
      "file: 76 \tlen: 4097\n",
      "file: 77 \tlen: 4097\n",
      "file: 78 \tlen: 4097\n",
      "file: 79 \tlen: 4097\n",
      "file: 80 \tlen: 4097\n",
      "file: 81 \tlen: 4097\n",
      "file: 82 \tlen: 4097\n",
      "file: 83 \tlen: 4097\n",
      "file: 84 \tlen: 4097\n",
      "file: 85 \tlen: 4097\n",
      "file: 86 \tlen: 4097\n",
      "file: 87 \tlen: 4097\n",
      "file: 88 \tlen: 4097\n",
      "file: 89 \tlen: 4097\n",
      "file: 90 \tlen: 4097\n",
      "file: 91 \tlen: 4097\n",
      "file: 92 \tlen: 4097\n",
      "file: 93 \tlen: 4097\n",
      "file: 94 \tlen: 4097\n",
      "file: 95 \tlen: 4097\n",
      "file: 96 \tlen: 4097\n",
      "file: 97 \tlen: 4097\n",
      "file: 98 \tlen: 4097\n",
      "file: 99 \tlen: 4097\n",
      "file: 100 \tlen: 4097\n"
     ]
    }
   ],
   "source": [
    "\n",
    "for i in range(len(data)):\n",
    "    print(f'file: {i+1} \\tlen: {len(data[i])}')"
   ]
  },
  {
   "cell_type": "code",
   "execution_count": 65,
   "metadata": {},
   "outputs": [
    {
     "name": "stdout",
     "output_type": "stream",
     "text": [
      "34\n",
      "60\n",
      "26\n",
      "44\n"
     ]
    }
   ],
   "source": [
    "print(data[0][0])\n",
    "print(data[1][0])\n",
    "print(data[2][0])\n",
    "print(data[10][0])"
   ]
  },
  {
   "cell_type": "markdown",
   "metadata": {},
   "source": [
    "\n",
    "time_index = np.arange(len(data))  \n",
    "\n",
    "plt.plot(time_index, data)\n",
    "plt.title(\"Time Series Data\")\n",
    "plt.xlabel(\"Time (Days)\")\n",
    "plt.ylabel(\"Values\")\n",
    "plt.show()\n"
   ]
  }
 ],
 "metadata": {
  "kernelspec": {
   "display_name": "Python 3",
   "language": "python",
   "name": "python3"
  },
  "language_info": {
   "codemirror_mode": {
    "name": "ipython",
    "version": 3
   },
   "file_extension": ".py",
   "mimetype": "text/x-python",
   "name": "python",
   "nbconvert_exporter": "python",
   "pygments_lexer": "ipython3",
   "version": "3.12.5"
  }
 },
 "nbformat": 4,
 "nbformat_minor": 2
}
