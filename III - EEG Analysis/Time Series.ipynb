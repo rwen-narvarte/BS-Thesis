{
 "cells": [
  {
   "cell_type": "code",
   "execution_count": 29,
   "metadata": {},
   "outputs": [],
   "source": [
    "import numpy as np\n",
    "import matplotlib.pyplot as plt\n",
    "import os"
   ]
  },
  {
   "cell_type": "code",
   "execution_count": 30,
   "metadata": {},
   "outputs": [],
   "source": [
    "def path(n_file):\n",
    "    n_file_str = str(n_file).zfill(3)\n",
    "    file_path = str(r\"d:\\NIP\\BS-Thesis\\III - EEG Analysis\\F\\F\" + n_file_str + '.txt')\n",
    "    return file_path\n",
    "\n",
    "def extract(file_path):\n",
    "    with open(file_path, 'r') as file:\n",
    "        data = [ int(line.strip()) for line in file]\n",
    "    return data\n",
    "\n",
    "data = []\n",
    "for i in range (1,101):\n",
    "    name = path(i)\n",
    "    data.append( extract(name) )"
   ]
  },
  {
   "cell_type": "code",
   "execution_count": null,
   "metadata": {},
   "outputs": [],
   "source": [
    "time_index = np.arange(len(data[0]))\n",
    "run = 0\n",
    "\n",
    "fig , axs = plt.subplots(20,5, figsize=(40,100))\n",
    "for i in range(5):\n",
    "    for j in range(20):\n",
    "        axs[j][i].plot(time_index,data[run])\n",
    "        axs[j][i].set_ylim(-800,1000)\n",
    "        run += 1\n",
    "\n",
    "plt.savefig('FTimeSeries.png', dpi=300)"
   ]
  },
  {
   "cell_type": "code",
   "execution_count": null,
   "metadata": {},
   "outputs": [],
   "source": []
  },
  {
   "cell_type": "markdown",
   "metadata": {},
   "source": [
    "\n",
    "time_index = np.arange(len(data))  \n",
    "\n",
    "plt.plot(time_index, data)\n",
    "plt.title(\"Time Series Data\")\n",
    "plt.xlabel(\"Time (Days)\")\n",
    "plt.ylabel(\"Values\")\n",
    "plt.show()\n"
   ]
  }
 ],
 "metadata": {
  "kernelspec": {
   "display_name": "Python 3",
   "language": "python",
   "name": "python3"
  },
  "language_info": {
   "codemirror_mode": {
    "name": "ipython",
    "version": 3
   },
   "file_extension": ".py",
   "mimetype": "text/x-python",
   "name": "python",
   "nbconvert_exporter": "python",
   "pygments_lexer": "ipython3",
   "version": "3.12.5"
  }
 },
 "nbformat": 4,
 "nbformat_minor": 2
}
